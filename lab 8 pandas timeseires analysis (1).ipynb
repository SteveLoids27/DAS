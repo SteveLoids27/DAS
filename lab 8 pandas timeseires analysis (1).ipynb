{
 "cells": [
  {
   "cell_type": "code",
   "execution_count": 1,
   "id": "7d1ed079",
   "metadata": {},
   "outputs": [],
   "source": [
    "import pandas as pd"
   ]
  },
  {
   "cell_type": "code",
   "execution_count": 2,
   "id": "48102bb3",
   "metadata": {},
   "outputs": [],
   "source": [
    "data=pd.read_csv('amazon_stock.csv')"
   ]
  },
  {
   "cell_type": "code",
   "execution_count": 3,
   "id": "933460d8",
   "metadata": {},
   "outputs": [
    {
     "data": {
      "text/html": [
       "<div>\n",
       "<style scoped>\n",
       "    .dataframe tbody tr th:only-of-type {\n",
       "        vertical-align: middle;\n",
       "    }\n",
       "\n",
       "    .dataframe tbody tr th {\n",
       "        vertical-align: top;\n",
       "    }\n",
       "\n",
       "    .dataframe thead th {\n",
       "        text-align: right;\n",
       "    }\n",
       "</style>\n",
       "<table border=\"1\" class=\"dataframe\">\n",
       "  <thead>\n",
       "    <tr style=\"text-align: right;\">\n",
       "      <th></th>\n",
       "      <th>None</th>\n",
       "      <th>ticker</th>\n",
       "      <th>Date</th>\n",
       "      <th>Open</th>\n",
       "      <th>High</th>\n",
       "      <th>Low</th>\n",
       "      <th>Close</th>\n",
       "      <th>Volume</th>\n",
       "      <th>Adj_Close</th>\n",
       "    </tr>\n",
       "  </thead>\n",
       "  <tbody>\n",
       "    <tr>\n",
       "      <th>0</th>\n",
       "      <td>0</td>\n",
       "      <td>AMZN</td>\n",
       "      <td>3/27/2018</td>\n",
       "      <td>1572.40</td>\n",
       "      <td>1575.96</td>\n",
       "      <td>1482.32</td>\n",
       "      <td>1497.05</td>\n",
       "      <td>6793279</td>\n",
       "      <td>1497.05</td>\n",
       "    </tr>\n",
       "    <tr>\n",
       "      <th>1</th>\n",
       "      <td>1</td>\n",
       "      <td>AMZN</td>\n",
       "      <td>3/26/2018</td>\n",
       "      <td>1530.00</td>\n",
       "      <td>1556.99</td>\n",
       "      <td>1499.25</td>\n",
       "      <td>1555.86</td>\n",
       "      <td>5547618</td>\n",
       "      <td>1555.86</td>\n",
       "    </tr>\n",
       "    <tr>\n",
       "      <th>2</th>\n",
       "      <td>2</td>\n",
       "      <td>AMZN</td>\n",
       "      <td>3/23/2018</td>\n",
       "      <td>1539.01</td>\n",
       "      <td>1549.02</td>\n",
       "      <td>1495.36</td>\n",
       "      <td>1495.56</td>\n",
       "      <td>7843966</td>\n",
       "      <td>1495.56</td>\n",
       "    </tr>\n",
       "    <tr>\n",
       "      <th>3</th>\n",
       "      <td>3</td>\n",
       "      <td>AMZN</td>\n",
       "      <td>3/22/2018</td>\n",
       "      <td>1565.47</td>\n",
       "      <td>1573.85</td>\n",
       "      <td>1542.40</td>\n",
       "      <td>1544.10</td>\n",
       "      <td>6177737</td>\n",
       "      <td>1544.10</td>\n",
       "    </tr>\n",
       "    <tr>\n",
       "      <th>4</th>\n",
       "      <td>4</td>\n",
       "      <td>AMZN</td>\n",
       "      <td>3/21/2018</td>\n",
       "      <td>1586.45</td>\n",
       "      <td>1590.00</td>\n",
       "      <td>1563.17</td>\n",
       "      <td>1581.86</td>\n",
       "      <td>4667291</td>\n",
       "      <td>1581.86</td>\n",
       "    </tr>\n",
       "    <tr>\n",
       "      <th>5</th>\n",
       "      <td>5</td>\n",
       "      <td>AMZN</td>\n",
       "      <td>3/20/2018</td>\n",
       "      <td>1550.34</td>\n",
       "      <td>1587.00</td>\n",
       "      <td>1545.41</td>\n",
       "      <td>1586.51</td>\n",
       "      <td>4507049</td>\n",
       "      <td>1586.51</td>\n",
       "    </tr>\n",
       "    <tr>\n",
       "      <th>6</th>\n",
       "      <td>6</td>\n",
       "      <td>AMZN</td>\n",
       "      <td>3/19/2018</td>\n",
       "      <td>1554.53</td>\n",
       "      <td>1561.66</td>\n",
       "      <td>1525.35</td>\n",
       "      <td>1544.93</td>\n",
       "      <td>6376619</td>\n",
       "      <td>1544.93</td>\n",
       "    </tr>\n",
       "    <tr>\n",
       "      <th>7</th>\n",
       "      <td>7</td>\n",
       "      <td>AMZN</td>\n",
       "      <td>3/16/2018</td>\n",
       "      <td>1583.45</td>\n",
       "      <td>1589.44</td>\n",
       "      <td>1567.50</td>\n",
       "      <td>1571.68</td>\n",
       "      <td>5145054</td>\n",
       "      <td>1571.68</td>\n",
       "    </tr>\n",
       "    <tr>\n",
       "      <th>8</th>\n",
       "      <td>8</td>\n",
       "      <td>AMZN</td>\n",
       "      <td>3/15/2018</td>\n",
       "      <td>1595.00</td>\n",
       "      <td>1596.91</td>\n",
       "      <td>1578.11</td>\n",
       "      <td>1582.32</td>\n",
       "      <td>4026744</td>\n",
       "      <td>1582.32</td>\n",
       "    </tr>\n",
       "    <tr>\n",
       "      <th>9</th>\n",
       "      <td>9</td>\n",
       "      <td>AMZN</td>\n",
       "      <td>3/14/2018</td>\n",
       "      <td>1597.00</td>\n",
       "      <td>1606.44</td>\n",
       "      <td>1590.89</td>\n",
       "      <td>1591.00</td>\n",
       "      <td>4164395</td>\n",
       "      <td>1591.00</td>\n",
       "    </tr>\n",
       "  </tbody>\n",
       "</table>\n",
       "</div>"
      ],
      "text/plain": [
       "   None ticker       Date     Open     High      Low    Close   Volume  \\\n",
       "0     0   AMZN  3/27/2018  1572.40  1575.96  1482.32  1497.05  6793279   \n",
       "1     1   AMZN  3/26/2018  1530.00  1556.99  1499.25  1555.86  5547618   \n",
       "2     2   AMZN  3/23/2018  1539.01  1549.02  1495.36  1495.56  7843966   \n",
       "3     3   AMZN  3/22/2018  1565.47  1573.85  1542.40  1544.10  6177737   \n",
       "4     4   AMZN  3/21/2018  1586.45  1590.00  1563.17  1581.86  4667291   \n",
       "5     5   AMZN  3/20/2018  1550.34  1587.00  1545.41  1586.51  4507049   \n",
       "6     6   AMZN  3/19/2018  1554.53  1561.66  1525.35  1544.93  6376619   \n",
       "7     7   AMZN  3/16/2018  1583.45  1589.44  1567.50  1571.68  5145054   \n",
       "8     8   AMZN  3/15/2018  1595.00  1596.91  1578.11  1582.32  4026744   \n",
       "9     9   AMZN  3/14/2018  1597.00  1606.44  1590.89  1591.00  4164395   \n",
       "\n",
       "   Adj_Close  \n",
       "0    1497.05  \n",
       "1    1555.86  \n",
       "2    1495.56  \n",
       "3    1544.10  \n",
       "4    1581.86  \n",
       "5    1586.51  \n",
       "6    1544.93  \n",
       "7    1571.68  \n",
       "8    1582.32  \n",
       "9    1591.00  "
      ]
     },
     "execution_count": 3,
     "metadata": {},
     "output_type": "execute_result"
    }
   ],
   "source": [
    "data.head(10)"
   ]
  },
  {
   "cell_type": "code",
   "execution_count": 4,
   "id": "559d3a48",
   "metadata": {},
   "outputs": [
    {
     "name": "stdout",
     "output_type": "stream",
     "text": [
      "<class 'pandas.core.frame.DataFrame'>\n",
      "RangeIndex: 1316 entries, 0 to 1315\n",
      "Data columns (total 9 columns):\n",
      " #   Column     Non-Null Count  Dtype  \n",
      "---  ------     --------------  -----  \n",
      " 0   None       1316 non-null   int64  \n",
      " 1   ticker     1316 non-null   object \n",
      " 2   Date       1316 non-null   object \n",
      " 3   Open       1316 non-null   float64\n",
      " 4   High       1316 non-null   float64\n",
      " 5   Low        1316 non-null   float64\n",
      " 6   Close      1316 non-null   float64\n",
      " 7   Volume     1316 non-null   int64  \n",
      " 8   Adj_Close  1316 non-null   float64\n",
      "dtypes: float64(5), int64(2), object(2)\n",
      "memory usage: 92.7+ KB\n"
     ]
    }
   ],
   "source": [
    "data.info()"
   ]
  },
  {
   "cell_type": "code",
   "execution_count": 5,
   "id": "910f2e1e",
   "metadata": {},
   "outputs": [
    {
     "data": {
      "text/html": [
       "<div>\n",
       "<style scoped>\n",
       "    .dataframe tbody tr th:only-of-type {\n",
       "        vertical-align: middle;\n",
       "    }\n",
       "\n",
       "    .dataframe tbody tr th {\n",
       "        vertical-align: top;\n",
       "    }\n",
       "\n",
       "    .dataframe thead th {\n",
       "        text-align: right;\n",
       "    }\n",
       "</style>\n",
       "<table border=\"1\" class=\"dataframe\">\n",
       "  <thead>\n",
       "    <tr style=\"text-align: right;\">\n",
       "      <th></th>\n",
       "      <th>Date</th>\n",
       "      <th>Open</th>\n",
       "      <th>High</th>\n",
       "      <th>Low</th>\n",
       "      <th>Close</th>\n",
       "      <th>Volume</th>\n",
       "      <th>Adj_Close</th>\n",
       "    </tr>\n",
       "  </thead>\n",
       "  <tbody>\n",
       "    <tr>\n",
       "      <th>0</th>\n",
       "      <td>3/27/2018</td>\n",
       "      <td>1572.40</td>\n",
       "      <td>1575.9600</td>\n",
       "      <td>1482.320</td>\n",
       "      <td>1497.0500</td>\n",
       "      <td>6793279</td>\n",
       "      <td>1497.0500</td>\n",
       "    </tr>\n",
       "    <tr>\n",
       "      <th>1</th>\n",
       "      <td>3/26/2018</td>\n",
       "      <td>1530.00</td>\n",
       "      <td>1556.9900</td>\n",
       "      <td>1499.250</td>\n",
       "      <td>1555.8600</td>\n",
       "      <td>5547618</td>\n",
       "      <td>1555.8600</td>\n",
       "    </tr>\n",
       "    <tr>\n",
       "      <th>2</th>\n",
       "      <td>3/23/2018</td>\n",
       "      <td>1539.01</td>\n",
       "      <td>1549.0200</td>\n",
       "      <td>1495.360</td>\n",
       "      <td>1495.5600</td>\n",
       "      <td>7843966</td>\n",
       "      <td>1495.5600</td>\n",
       "    </tr>\n",
       "    <tr>\n",
       "      <th>3</th>\n",
       "      <td>3/22/2018</td>\n",
       "      <td>1565.47</td>\n",
       "      <td>1573.8500</td>\n",
       "      <td>1542.400</td>\n",
       "      <td>1544.1000</td>\n",
       "      <td>6177737</td>\n",
       "      <td>1544.1000</td>\n",
       "    </tr>\n",
       "    <tr>\n",
       "      <th>4</th>\n",
       "      <td>3/21/2018</td>\n",
       "      <td>1586.45</td>\n",
       "      <td>1590.0000</td>\n",
       "      <td>1563.170</td>\n",
       "      <td>1581.8600</td>\n",
       "      <td>4667291</td>\n",
       "      <td>1581.8600</td>\n",
       "    </tr>\n",
       "    <tr>\n",
       "      <th>...</th>\n",
       "      <td>...</td>\n",
       "      <td>...</td>\n",
       "      <td>...</td>\n",
       "      <td>...</td>\n",
       "      <td>...</td>\n",
       "      <td>...</td>\n",
       "      <td>...</td>\n",
       "    </tr>\n",
       "    <tr>\n",
       "      <th>1311</th>\n",
       "      <td>01-08-2013</td>\n",
       "      <td>267.07</td>\n",
       "      <td>268.9800</td>\n",
       "      <td>263.567</td>\n",
       "      <td>266.3800</td>\n",
       "      <td>3010700</td>\n",
       "      <td>266.3800</td>\n",
       "    </tr>\n",
       "    <tr>\n",
       "      <th>1312</th>\n",
       "      <td>01-07-2013</td>\n",
       "      <td>262.97</td>\n",
       "      <td>269.7250</td>\n",
       "      <td>262.670</td>\n",
       "      <td>268.4592</td>\n",
       "      <td>4910000</td>\n",
       "      <td>268.4592</td>\n",
       "    </tr>\n",
       "    <tr>\n",
       "      <th>1313</th>\n",
       "      <td>01-04-2013</td>\n",
       "      <td>257.58</td>\n",
       "      <td>259.8000</td>\n",
       "      <td>256.650</td>\n",
       "      <td>259.1500</td>\n",
       "      <td>1874200</td>\n",
       "      <td>259.1500</td>\n",
       "    </tr>\n",
       "    <tr>\n",
       "      <th>1314</th>\n",
       "      <td>01-03-2013</td>\n",
       "      <td>257.27</td>\n",
       "      <td>260.8800</td>\n",
       "      <td>256.370</td>\n",
       "      <td>258.4800</td>\n",
       "      <td>2750900</td>\n",
       "      <td>258.4800</td>\n",
       "    </tr>\n",
       "    <tr>\n",
       "      <th>1315</th>\n",
       "      <td>01-02-2013</td>\n",
       "      <td>256.08</td>\n",
       "      <td>258.0999</td>\n",
       "      <td>253.260</td>\n",
       "      <td>257.3100</td>\n",
       "      <td>3271000</td>\n",
       "      <td>257.3100</td>\n",
       "    </tr>\n",
       "  </tbody>\n",
       "</table>\n",
       "<p>1316 rows × 7 columns</p>\n",
       "</div>"
      ],
      "text/plain": [
       "            Date     Open       High       Low      Close   Volume  Adj_Close\n",
       "0      3/27/2018  1572.40  1575.9600  1482.320  1497.0500  6793279  1497.0500\n",
       "1      3/26/2018  1530.00  1556.9900  1499.250  1555.8600  5547618  1555.8600\n",
       "2      3/23/2018  1539.01  1549.0200  1495.360  1495.5600  7843966  1495.5600\n",
       "3      3/22/2018  1565.47  1573.8500  1542.400  1544.1000  6177737  1544.1000\n",
       "4      3/21/2018  1586.45  1590.0000  1563.170  1581.8600  4667291  1581.8600\n",
       "...          ...      ...        ...       ...        ...      ...        ...\n",
       "1311  01-08-2013   267.07   268.9800   263.567   266.3800  3010700   266.3800\n",
       "1312  01-07-2013   262.97   269.7250   262.670   268.4592  4910000   268.4592\n",
       "1313  01-04-2013   257.58   259.8000   256.650   259.1500  1874200   259.1500\n",
       "1314  01-03-2013   257.27   260.8800   256.370   258.4800  2750900   258.4800\n",
       "1315  01-02-2013   256.08   258.0999   253.260   257.3100  3271000   257.3100\n",
       "\n",
       "[1316 rows x 7 columns]"
      ]
     },
     "execution_count": 5,
     "metadata": {},
     "output_type": "execute_result"
    }
   ],
   "source": [
    "data=data.drop(['None','ticker'],axis=1)\n",
    "data\n"
   ]
  },
  {
   "cell_type": "code",
   "execution_count": 6,
   "id": "35997b17",
   "metadata": {},
   "outputs": [
    {
     "data": {
      "text/plain": [
       "Date          object\n",
       "Open         float64\n",
       "High         float64\n",
       "Low          float64\n",
       "Close        float64\n",
       "Volume         int64\n",
       "Adj_Close    float64\n",
       "dtype: object"
      ]
     },
     "execution_count": 6,
     "metadata": {},
     "output_type": "execute_result"
    }
   ],
   "source": [
    "data.dtypes"
   ]
  },
  {
   "cell_type": "code",
   "execution_count": 7,
   "id": "a20f6a1a",
   "metadata": {},
   "outputs": [
    {
     "data": {
      "text/plain": [
       "Date         datetime64[ns]\n",
       "Open                float64\n",
       "High                float64\n",
       "Low                 float64\n",
       "Close               float64\n",
       "Volume                int64\n",
       "Adj_Close           float64\n",
       "dtype: object"
      ]
     },
     "execution_count": 7,
     "metadata": {},
     "output_type": "execute_result"
    }
   ],
   "source": [
    "data['Date']=pd.to_datetime(data['Date'])\n",
    "data.dtypes"
   ]
  },
  {
   "cell_type": "code",
   "execution_count": 8,
   "id": "1538aad2",
   "metadata": {},
   "outputs": [
    {
     "data": {
      "text/html": [
       "<div>\n",
       "<style scoped>\n",
       "    .dataframe tbody tr th:only-of-type {\n",
       "        vertical-align: middle;\n",
       "    }\n",
       "\n",
       "    .dataframe tbody tr th {\n",
       "        vertical-align: top;\n",
       "    }\n",
       "\n",
       "    .dataframe thead th {\n",
       "        text-align: right;\n",
       "    }\n",
       "</style>\n",
       "<table border=\"1\" class=\"dataframe\">\n",
       "  <thead>\n",
       "    <tr style=\"text-align: right;\">\n",
       "      <th></th>\n",
       "      <th>Date</th>\n",
       "      <th>Open</th>\n",
       "      <th>High</th>\n",
       "      <th>Low</th>\n",
       "      <th>Close</th>\n",
       "      <th>Volume</th>\n",
       "      <th>Adj_Close</th>\n",
       "    </tr>\n",
       "  </thead>\n",
       "  <tbody>\n",
       "    <tr>\n",
       "      <th>0</th>\n",
       "      <td>2018-03-27</td>\n",
       "      <td>1572.40</td>\n",
       "      <td>1575.96</td>\n",
       "      <td>1482.32</td>\n",
       "      <td>1497.05</td>\n",
       "      <td>6793279</td>\n",
       "      <td>1497.05</td>\n",
       "    </tr>\n",
       "    <tr>\n",
       "      <th>1</th>\n",
       "      <td>2018-03-26</td>\n",
       "      <td>1530.00</td>\n",
       "      <td>1556.99</td>\n",
       "      <td>1499.25</td>\n",
       "      <td>1555.86</td>\n",
       "      <td>5547618</td>\n",
       "      <td>1555.86</td>\n",
       "    </tr>\n",
       "    <tr>\n",
       "      <th>2</th>\n",
       "      <td>2018-03-23</td>\n",
       "      <td>1539.01</td>\n",
       "      <td>1549.02</td>\n",
       "      <td>1495.36</td>\n",
       "      <td>1495.56</td>\n",
       "      <td>7843966</td>\n",
       "      <td>1495.56</td>\n",
       "    </tr>\n",
       "    <tr>\n",
       "      <th>3</th>\n",
       "      <td>2018-03-22</td>\n",
       "      <td>1565.47</td>\n",
       "      <td>1573.85</td>\n",
       "      <td>1542.40</td>\n",
       "      <td>1544.10</td>\n",
       "      <td>6177737</td>\n",
       "      <td>1544.10</td>\n",
       "    </tr>\n",
       "    <tr>\n",
       "      <th>4</th>\n",
       "      <td>2018-03-21</td>\n",
       "      <td>1586.45</td>\n",
       "      <td>1590.00</td>\n",
       "      <td>1563.17</td>\n",
       "      <td>1581.86</td>\n",
       "      <td>4667291</td>\n",
       "      <td>1581.86</td>\n",
       "    </tr>\n",
       "  </tbody>\n",
       "</table>\n",
       "</div>"
      ],
      "text/plain": [
       "        Date     Open     High      Low    Close   Volume  Adj_Close\n",
       "0 2018-03-27  1572.40  1575.96  1482.32  1497.05  6793279    1497.05\n",
       "1 2018-03-26  1530.00  1556.99  1499.25  1555.86  5547618    1555.86\n",
       "2 2018-03-23  1539.01  1549.02  1495.36  1495.56  7843966    1495.56\n",
       "3 2018-03-22  1565.47  1573.85  1542.40  1544.10  6177737    1544.10\n",
       "4 2018-03-21  1586.45  1590.00  1563.17  1581.86  4667291    1581.86"
      ]
     },
     "execution_count": 8,
     "metadata": {},
     "output_type": "execute_result"
    }
   ],
   "source": [
    "data.head()"
   ]
  },
  {
   "cell_type": "code",
   "execution_count": 9,
   "id": "8ace2779",
   "metadata": {},
   "outputs": [
    {
     "data": {
      "text/plain": [
       "<Axes: title={'center': 'Adjusted Closing Price'}>"
      ]
     },
     "execution_count": 9,
     "metadata": {},
     "output_type": "execute_result"
    },
    {
     "data": {
      "image/png": "[encoded data removed]",
      "text/plain": [
       "<Figure size 1200x600 with 1 Axes>"
      ]
     },
     "metadata": {},
     "output_type": "display_data"
    }
   ],
   "source": [
    "data['Adj_Close'].plot(figsize=(12,6),title=\"Adjusted Closing Price\")"
   ]
  },
  {
   "cell_type": "code",
   "execution_count": 10,
   "id": "e6fee97b",
   "metadata": {},
   "outputs": [
    {
     "data": {
      "text/plain": [
       "RangeIndex(start=0, stop=1316, step=1)"
      ]
     },
     "execution_count": 10,
     "metadata": {},
     "output_type": "execute_result"
    }
   ],
   "source": [
    "data.index"
   ]
  },
  {
   "cell_type": "code",
   "execution_count": 12,
   "id": "da7f01c7",
   "metadata": {},
   "outputs": [
    {
     "data": {
      "text/plain": [
       "(1316, 7)"
      ]
     },
     "execution_count": 12,
     "metadata": {},
     "output_type": "execute_result"
    }
   ],
   "source": [
    "data.shape"
   ]
  },
  {
   "cell_type": "code",
   "execution_count": 13,
   "id": "1a455ebb",
   "metadata": {},
   "outputs": [
    {
     "data": {
      "text/plain": [
       "<bound method NDFrame.tail of            Date     Open       High       Low      Close   Volume  Adj_Close\n",
       "0    2018-03-27  1572.40  1575.9600  1482.320  1497.0500  6793279  1497.0500\n",
       "1    2018-03-26  1530.00  1556.9900  1499.250  1555.8600  5547618  1555.8600\n",
       "2    2018-03-23  1539.01  1549.0200  1495.360  1495.5600  7843966  1495.5600\n",
       "3    2018-03-22  1565.47  1573.8500  1542.400  1544.1000  6177737  1544.1000\n",
       "4    2018-03-21  1586.45  1590.0000  1563.170  1581.8600  4667291  1581.8600\n",
       "...         ...      ...        ...       ...        ...      ...        ...\n",
       "1311 2013-01-08   267.07   268.9800   263.567   266.3800  3010700   266.3800\n",
       "1312 2013-01-07   262.97   269.7250   262.670   268.4592  4910000   268.4592\n",
       "1313 2013-01-04   257.58   259.8000   256.650   259.1500  1874200   259.1500\n",
       "1314 2013-01-03   257.27   260.8800   256.370   258.4800  2750900   258.4800\n",
       "1315 2013-01-02   256.08   258.0999   253.260   257.3100  3271000   257.3100\n",
       "\n",
       "[1316 rows x 7 columns]>"
      ]
     },
     "execution_count": 13,
     "metadata": {},
     "output_type": "execute_result"
    }
   ],
   "source": [
    "data.tail"
   ]
  },
  {
   "cell_type": "code",
   "execution_count": null,
   "id": "ae2941a6",
   "metadata": {},
   "outputs": [],
   "source": []
  }
 ],
 "metadata": {
  "kernelspec": {
   "display_name": "Python 3 (ipykernel)",
   "language": "python",
   "name": "python3"
  },
  "language_info": {
   "codemirror_mode": {
    "name": "ipython",
    "version": 3
   },
   "file_extension": ".py",
   "mimetype": "text/x-python",
   "name": "python",
   "nbconvert_exporter": "python",
   "pygments_lexer": "ipython3",
   "version": "3.11.3"
  }
 },
 "nbformat": 4,
 "nbformat_minor": 5
}

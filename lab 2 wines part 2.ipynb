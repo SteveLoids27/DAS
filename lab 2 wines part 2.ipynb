{
 "cells": [
  {
   "cell_type": "code",
   "execution_count": 1,
   "id": "76b80d91",
   "metadata": {},
   "outputs": [],
   "source": [
    "import numpy as np"
   ]
  },
  {
   "cell_type": "code",
   "execution_count": 2,
   "id": "0ddf423b",
   "metadata": {},
   "outputs": [],
   "source": [
    "wines=np.genfromtxt('winequality-red.csv',delimiter=\";\",skip_header=1)"
   ]
  },
  {
   "cell_type": "code",
   "execution_count": 5,
   "id": "ec2485c2",
   "metadata": {},
   "outputs": [
    {
     "data": {
      "text/plain": [
       "array([13303.1    ,   843.985  ,   433.29   ,  4059.55   ,   139.859  ,\n",
       "       25384.     , 74302.     ,  1593.79794,  5294.47   ,  1052.38   ,\n",
       "       16666.35   ,  9012.     ])"
      ]
     },
     "execution_count": 5,
     "metadata": {},
     "output_type": "execute_result"
    }
   ],
   "source": [
    "sum(wines[:])"
   ]
  },
  {
   "cell_type": "code",
   "execution_count": 6,
   "id": "1059a35d",
   "metadata": {},
   "outputs": [
    {
     "data": {
      "text/plain": [
       "0.0"
      ]
     },
     "execution_count": 6,
     "metadata": {},
     "output_type": "execute_result"
    }
   ],
   "source": [
    "wines.min()"
   ]
  },
  {
   "cell_type": "code",
   "execution_count": 7,
   "id": "8130f46e",
   "metadata": {},
   "outputs": [
    {
     "data": {
      "text/plain": [
       "289.0"
      ]
     },
     "execution_count": 7,
     "metadata": {},
     "output_type": "execute_result"
    }
   ],
   "source": [
    "wines.max()"
   ]
  },
  {
   "cell_type": "code",
   "execution_count": 8,
   "id": "efb23815",
   "metadata": {},
   "outputs": [
    {
     "data": {
      "text/plain": [
       "2.53880550343965"
      ]
     },
     "execution_count": 8,
     "metadata": {},
     "output_type": "execute_result"
    }
   ],
   "source": [
    "np.mean(wines[:,3])"
   ]
  },
  {
   "cell_type": "code",
   "execution_count": 11,
   "id": "c49ff76d",
   "metadata": {},
   "outputs": [
    {
     "data": {
      "text/plain": [
       "array([[7.400e+00, 7.000e-01, 0.000e+00, 1.900e+00, 7.600e-02, 1.100e+01,\n",
       "        3.400e+01, 9.978e-01, 3.510e+00, 5.600e-01, 9.400e+00, 5.000e+00],\n",
       "       [7.800e+00, 8.800e-01, 0.000e+00, 2.600e+00, 9.800e-02, 2.500e+01,\n",
       "        6.700e+01, 9.968e-01, 3.200e+00, 6.800e-01, 9.800e+00, 5.000e+00],\n",
       "       [7.800e+00, 7.600e-01, 4.000e-02, 2.300e+00, 9.200e-02, 1.500e+01,\n",
       "        5.400e+01, 9.970e-01, 3.260e+00, 6.500e-01, 9.800e+00, 5.000e+00]])"
      ]
     },
     "execution_count": 11,
     "metadata": {},
     "output_type": "execute_result"
    }
   ],
   "source": [
    "wines[0:3]"
   ]
  }
 ],
 "metadata": {
  "kernelspec": {
   "display_name": "Python 3 (ipykernel)",
   "language": "python",
   "name": "python3"
  },
  "language_info": {
   "codemirror_mode": {
    "name": "ipython",
    "version": 3
   },
   "file_extension": ".py",
   "mimetype": "text/x-python",
   "name": "python",
   "nbconvert_exporter": "python",
   "pygments_lexer": "ipython3",
   "version": "3.11.3"
  }
 },
 "nbformat": 4,
 "nbformat_minor": 5
}
